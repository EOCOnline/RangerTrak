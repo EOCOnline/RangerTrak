{
 "cells": [
  {
   "cell_type": "code",
   "execution_count": 11,
   "metadata": {
    "vscode": {
     "languageId": "javascript"
    }
   },
   "outputs": [
    {
     "ename": "SyntaxError",
     "evalue": "invalid syntax (<ipython-input-11-38fd5d1b720b>, line 1)",
     "output_type": "error",
     "traceback": [
      "\u001b[1;36m  Input \u001b[1;32mIn [11]\u001b[1;36m\u001b[0m\n\u001b[1;33m    //function test() {\u001b[0m\n\u001b[1;37m    ^\u001b[0m\n\u001b[1;31mSyntaxError\u001b[0m\u001b[1;31m:\u001b[0m invalid syntax\n"
     ]
    }
   ],
   "source": [
    "//function test() {\n",
    "  const myarray = {\"A\":0, \"B\":2, \"C\":3};\n",
    "// for (let ii = 0; ii < 3; ii++) {\n",
    "  test = Math.random()*100;\n",
    "  console.log(`test=`+test);\n",
    "//} }"
   ]
  },
  {
   "attachments": {},
   "cell_type": "markdown",
   "metadata": {},
   "source": [
    "# Juypter Notebook for RangerTrak\n",
    "\n",
    "## Key bindings\n",
    "\n",
    "- <https://github.com/microsoft/vscode-jupyter/wiki/Extensibility-for-other-extensions#context-keys-for-keybindings>\n",
    "- all start with Juy..., or Notebook\n",
    "\n",
    "## Intro\n",
    "\n",
    "- https://marketplace.visualstudio.com/items?itemName=ms-toolsai.jupyter\n",
    "- https://code.visualstudio.com/docs/datascience/jupyter-notebooks\n",
    "- `jupyter kernel spec`\n"
   ]
  },
  {
   "cell_type": "code",
   "execution_count": 13,
   "metadata": {},
   "outputs": [
    {
     "ename": "SyntaxError",
     "evalue": "invalid syntax (<ipython-input-13-51c04ea2c987>, line 1)",
     "output_type": "error",
     "traceback": [
      "\u001b[1;36m  Input \u001b[1;32mIn [13]\u001b[1;36m\u001b[0m\n\u001b[1;33m    jupyter kernel spec\u001b[0m\n\u001b[1;37m            ^\u001b[0m\n\u001b[1;31mSyntaxError\u001b[0m\u001b[1;31m:\u001b[0m invalid syntax\n"
     ]
    }
   ],
   "source": [
    "// https://stackoverflow.com/questions/55080181/typescript-in-jupyter-notebook\n",
    "jupyter kernel spec\n",
    "// https://github.com/yunabe/tslab\n",
    "// https://github.com/yunabe/tslab"
   ]
  },
  {
   "cell_type": "code",
   "execution_count": 1,
   "metadata": {},
   "outputs": [
    {
     "name": "stdout",
     "output_type": "stream",
     "text": [
      "Hi there\n"
     ]
    }
   ],
   "source": [
    "msg = \"Hi there\"\n",
    "print(msg)"
   ]
  }
 ],
 "metadata": {
  "kernelspec": {
   "display_name": "\"Python/Mu (mu_venv-38-20220611-094419)\"",
   "language": "python",
   "name": "mu_venv-38-20220611-094419"
  },
  "language_info": {
   "codemirror_mode": {
    "name": "ipython",
    "version": 3
   },
   "file_extension": ".py",
   "mimetype": "text/x-python",
   "name": "python",
   "nbconvert_exporter": "python",
   "pygments_lexer": "ipython3",
   "version": "3.8.11"
  },
  "orig_nbformat": 4
 },
 "nbformat": 4,
 "nbformat_minor": 2
}
